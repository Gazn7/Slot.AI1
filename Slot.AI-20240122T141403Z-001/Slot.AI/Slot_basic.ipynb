{
 "cells": [
  {
   "cell_type": "markdown",
   "id": "f43adfa9-cc39-4dc7-93de-c436bcc7b01b",
   "metadata": {},
   "source": [
    "ask chat: Can you help me to define the engine of a slot?\n",
    "- num of reels\n",
    "- symobls\n",
    "- payouts\n",
    "- righe di vittoria\n",
    "- rtp\n"
   ]
  },
  {
   "cell_type": "code",
   "execution_count": 2,
   "id": "e73b3c47-429c-4426-8f78-3655cceea0ab",
   "metadata": {
    "tags": []
   },
   "outputs": [],
   "source": [
    "import random  \n"
   ]
  },
  {
   "cell_type": "markdown",
   "id": "f5b40fd3-a807-4716-9137-2b24a8b7e094",
   "metadata": {},
   "source": [
    "# Creare la classe SLOT con solo rulli e simboli"
   ]
  },
  {
   "cell_type": "code",
   "execution_count": 9,
   "id": "188e6273-b87a-459f-923f-e155b1c4ddd9",
   "metadata": {
    "tags": []
   },
   "outputs": [],
   "source": [
    "# create clas slot\n",
    "class SlotMachine_easy: \n",
    "    def __init__(self, symbols, num_reels):\n",
    "        self.num_reels = num_reels #assigns the number of reels passed as an argument to the num_reelsassigns the number of reels passed as an argument to the num_reels\n",
    "        self.symbols = symbols #creates a list called symbols containing different symbols that can appear on the slot machine's reels\n",
    "\n",
    "## method called spin that simulates spinning the slot machine. When this method is called, it generates a random combination of symbols on the reels.\n",
    "    def spin(self): \n",
    "        result = []\n",
    "        for i in range(self.num_reels):\n",
    "            result.append(random.choice(self.symbols)) #randomly select a symbol from the symbols list and adds it to the result list. \n",
    "        return result"
   ]
  },
  {
   "cell_type": "markdown",
   "id": "5a735d80-9272-4561-b003-50e9e9b9be71",
   "metadata": {},
   "source": [
    "# TEST"
   ]
  },
  {
   "cell_type": "code",
   "execution_count": 16,
   "id": "37bb80e3-9c6f-4a80-8ddd-afc94ebba9e7",
   "metadata": {
    "tags": []
   },
   "outputs": [],
   "source": [
    "# define symbols\n",
    "user_defined_symbols =[\n",
    "\"W\",\n",
    "\"G1\",\n",
    "\"G2\",\n",
    "\"A3\",\n",
    "\"A2\",\n",
    "\"A1\",\n",
    "\"A\",\n",
    "\"K\",\n",
    "\"Q\",\n",
    "\"J\",\n",
    "\"T\",\n",
    "\"S\"]\n",
    "\n",
    "#define reel's number\n",
    "num_reels=5\n"
   ]
  },
  {
   "cell_type": "code",
   "execution_count": 17,
   "id": "dc7ba0a0-a5af-489c-9321-e5ef5d1f7fe3",
   "metadata": {
    "tags": []
   },
   "outputs": [
    {
     "name": "stdout",
     "output_type": "stream",
     "text": [
      "Spin Result: ['T', 'K', 'T', 'S', 'G1']\n"
     ]
    }
   ],
   "source": [
    "# Create a slot machine instance\n",
    "slot_machine = SlotMachine_easy(user_defined_symbols,num_reels)\n",
    "\n",
    "# Spin the reels\n",
    "spin_result = slot_machine.spin()\n",
    "print(\"Spin Result:\", spin_result)\n"
   ]
  },
  {
   "cell_type": "code",
   "execution_count": 22,
   "id": "91c9babb-35d0-423c-936f-1587c8ed76fd",
   "metadata": {
    "tags": []
   },
   "outputs": [
    {
     "name": "stdout",
     "output_type": "stream",
     "text": [
      "Spin Result: ['A2', 'S', 'W', 'S', 'S']\n"
     ]
    }
   ],
   "source": [
    "\n",
    "# Create a slot machine instance\n",
    "slot_machine = SlotMachine_easy(user_defined_symbols,5)\n",
    "\n",
    "# Spin the reels\n",
    "spin_result = slot_machine.spin()\n",
    "print(\"Spin Result:\", spin_result)\n"
   ]
  },
  {
   "cell_type": "markdown",
   "id": "a15a71ad-6241-4774-bf71-77fe27f32643",
   "metadata": {},
   "source": [
    "## Slot con rulli simboli e un rtp definito"
   ]
  },
  {
   "cell_type": "code",
   "execution_count": 23,
   "id": "57bb19fa-dbde-4111-ba75-74742a7ebb10",
   "metadata": {
    "tags": []
   },
   "outputs": [],
   "source": [
    "import random\n",
    "\n",
    "class SlotMachine:\n",
    "    def __init__(self, rtp, symbols,num_reels):\n",
    "        self.num_reels = num_reels\n",
    "        self.rtp = rtp \n",
    "        self.symbols = symbols\n",
    "        self.payouts = {\"Cherry\": 5, \"Lemon\": 4, \"Orange\": 3, \"Plum\": 2, \"Bell\": 1, \"Bar\": 0}\n",
    "        \n",
    "#The spin method checks if a random number within 1-100\n",
    "#falls within the RTP range. If it does, it awards a simplified payout\n",
    "    def spin(self):\n",
    "        result = []\n",
    "        total_payout = 0\n",
    "\n",
    "        # Spin the reels\n",
    "        for i in range(self.num_reels):\n",
    "            result.append(random.choice(self.symbols))\n",
    "\n",
    "        # Calculate payout\n",
    "        for symbol in result:\n",
    "            total_payout += self.payouts[symbol]\n",
    "\n",
    "        # Adjust payout based on RTP\n",
    "        adjusted_payout = total_payout * (self.rtp / 100)\n",
    "        return result, adjusted_payout\n",
    "\n",
    "\n"
   ]
  },
  {
   "cell_type": "markdown",
   "id": "185eab5b-7ed1-4202-a4c4-6bf277d54892",
   "metadata": {},
   "source": [
    "## Test"
   ]
  },
  {
   "cell_type": "code",
   "execution_count": 18,
   "id": "43d416b8-f303-4924-9448-d40ac4cc9ceb",
   "metadata": {
    "tags": []
   },
   "outputs": [
    {
     "name": "stdout",
     "output_type": "stream",
     "text": [
      "Spin Result: ['Orange', 'Cherry', 'Bell'] Payout: 8.82\n"
     ]
    }
   ],
   "source": [
    "# Create a slot machine instance with 97% RTP\n",
    "slot_machine = SlotMachine(rtp=98)\n",
    "\n",
    "# Spin the reels\n",
    "spin_result, payout = slot_machine.spin()\n",
    "print(\"Spin Result:\", spin_result, \"Payout:\", payout)"
   ]
  },
  {
   "cell_type": "code",
   "execution_count": 9,
   "id": "169e5149-2cb4-41af-9b54-5ba038fa063e",
   "metadata": {
    "tags": []
   },
   "outputs": [
    {
     "name": "stdout",
     "output_type": "stream",
     "text": [
      "You won 10 free spins!\n",
      "Free spin! Remaining: 9\n",
      "Free spin! Remaining: 8\n",
      "Free spin! Remaining: 7\n",
      "Free spin! Remaining: 6\n",
      "Free spin! Remaining: 5\n",
      "Free spin! Remaining: 4\n",
      "Free spin! Remaining: 3\n",
      "Free spin! Remaining: 2\n",
      "Free spin! Remaining: 1\n",
      "Free spin! Remaining: 0\n",
      "You won 10 free spins!\n",
      "Free spin! Remaining: 9\n",
      "Free spin! Remaining: 8\n",
      "Free spin! Remaining: 7\n",
      "Free spin! Remaining: 6\n",
      "Spin 1: ['Cherry', 'Cherry', 'Cherry']\n",
      "Spin 2: ['Cherry', 'Lemon', 'Orange']\n",
      "Spin 3: ['Cherry', 'Plum', 'Lemon']\n",
      "Spin 4: ['Lemon', 'Orange', 'Cherry']\n",
      "Spin 5: ['Plum', 'Cherry', 'Cherry']\n",
      "Spin 6: ['Cherry', 'Lemon', 'Orange']\n",
      "Spin 7: ['Lemon', 'Lemon', 'Plum']\n",
      "Spin 8: ['Lemon', 'Cherry', 'Lemon']\n",
      "Spin 9: ['Cherry', 'Plum', 'Lemon']\n",
      "Spin 10: ['Cherry', 'Lemon', 'Cherry']\n",
      "Spin 11: ['Cherry', 'Cherry', 'Cherry']\n",
      "Spin 12: ['Cherry', 'Orange', 'Cherry']\n",
      "Spin 13: ['Cherry', 'Lemon', 'Cherry']\n",
      "Spin 14: ['Lemon', 'Bell', 'Lemon']\n",
      "Spin 15: ['Cherry', 'Bell', 'Cherry']\n"
     ]
    }
   ],
   "source": [
    "import random\n",
    "\n",
    "class SlotMachine:\n",
    "    def __init__(self, rtp=97, num_reels=3):\n",
    "        self.num_reels = num_reels\n",
    "        self.rtp = rtp\n",
    "        self.symbols = [\"Cherry\", \"Lemon\", \"Orange\", \"Plum\", \"Bell\", \"Bar\"]\n",
    "        self.weights = [0.5, 0.2, 0.15, 0.1, 0.05, 0.03] \n",
    "\n",
    "    def spin(self):\n",
    "        result = []\n",
    "        for _ in range(self.num_reels):\n",
    "            result.append(random.choices(self.symbols, weights=self.weights)[0])\n",
    "        return result\n",
    "\n",
    "class SlotMachineWithFreeSpins(SlotMachine):\n",
    "    def __init__(self, rtp=97, num_reels=3, free_spins_trigger=[\"Cherry\", \"Cherry\", \"Cherry\"]):\n",
    "        super().__init__(rtp, num_reels)\n",
    "        self.free_spins_trigger = free_spins_trigger\n",
    "        self.free_spins_remaining = 0\n",
    "\n",
    "    def spin(self):\n",
    "        if self.free_spins_remaining > 0:\n",
    "            self.free_spins_remaining -= 1\n",
    "            print(\"Free spin! Remaining:\", self.free_spins_remaining)\n",
    "        \n",
    "        result = super().spin()\n",
    "\n",
    "        if result == self.free_spins_trigger:\n",
    "            self.free_spins_remaining += 10\n",
    "            print(\"You won 10 free spins!\")\n",
    "\n",
    "        return result\n",
    "\n",
    "# Create a slot machine instance with free spins feature\n",
    "slot_machine_with_free_spins = SlotMachineWithFreeSpins()\n",
    "\n",
    "# Simulate a few spins\n",
    "free_spins_simulation_results = [slot_machine_with_free_spins.spin() for _ in range(15)]\n",
    "for spin_number, result in enumerate(free_spins_simulation_results, 1):\n",
    "    print(f\"Spin {spin_number}: {result}\")\n"
   ]
  },
  {
   "cell_type": "code",
   "execution_count": null,
   "id": "852b4aac-1489-4d93-bd97-0bd5f02c7113",
   "metadata": {},
   "outputs": [],
   "source": []
  },
  {
   "cell_type": "code",
   "execution_count": 9,
   "id": "1e56ef40-937c-427a-9578-8075907570d9",
   "metadata": {
    "tags": []
   },
   "outputs": [
    {
     "name": "stdout",
     "output_type": "stream",
     "text": [
      "You won 10 free spins!\n",
      "Free spin! Remaining: 9\n",
      "Free spin! Remaining: 8\n",
      "Free spin! Remaining: 7\n",
      "Free spin! Remaining: 6\n",
      "Free spin! Remaining: 5\n",
      "Free spin! Remaining: 4\n",
      "Free spin! Remaining: 3\n",
      "Free spin! Remaining: 2\n",
      "Free spin! Remaining: 1\n",
      "Free spin! Remaining: 0\n",
      "You won 10 free spins!\n",
      "Free spin! Remaining: 9\n",
      "Free spin! Remaining: 8\n",
      "Free spin! Remaining: 7\n",
      "Free spin! Remaining: 6\n",
      "Spin 1: ['Cherry', 'Cherry', 'Cherry']\n",
      "Spin 2: ['Cherry', 'Lemon', 'Orange']\n",
      "Spin 3: ['Cherry', 'Plum', 'Lemon']\n",
      "Spin 4: ['Lemon', 'Orange', 'Cherry']\n",
      "Spin 5: ['Plum', 'Cherry', 'Cherry']\n",
      "Spin 6: ['Cherry', 'Lemon', 'Orange']\n",
      "Spin 7: ['Lemon', 'Lemon', 'Plum']\n",
      "Spin 8: ['Lemon', 'Cherry', 'Lemon']\n",
      "Spin 9: ['Cherry', 'Plum', 'Lemon']\n",
      "Spin 10: ['Cherry', 'Lemon', 'Cherry']\n",
      "Spin 11: ['Cherry', 'Cherry', 'Cherry']\n",
      "Spin 12: ['Cherry', 'Orange', 'Cherry']\n",
      "Spin 13: ['Cherry', 'Lemon', 'Cherry']\n",
      "Spin 14: ['Lemon', 'Bell', 'Lemon']\n",
      "Spin 15: ['Cherry', 'Bell', 'Cherry']\n"
     ]
    }
   ],
   "source": [
    "import random\n",
    "\n",
    "class SlotMachine:\n",
    "    def __init__(self, rtp=97, num_reels=3):\n",
    "        self.num_reels = num_reels\n",
    "        self.rtp = rtp\n",
    "        self.symbols = [\"Cherry\", \"Lemon\", \"Orange\", \"Plum\", \"Bell\", \"Bar\"]\n",
    "        self.weights = [0.5, 0.2, 0.15, 0.1, 0.05, 0.03] \n",
    "\n",
    "    def spin(self):\n",
    "        result = []\n",
    "        for _ in range(self.num_reels):\n",
    "            result.append(random.choices(self.symbols, weights=self.weights)[0])\n",
    "        return result\n",
    "\n",
    "class SlotMachineWithFreeSpins(SlotMachine):\n",
    "    def __init__(self, rtp=97, num_reels=3, free_spins_trigger=[\"Cherry\", \"Cherry\", \"Cherry\"]):\n",
    "        super().__init__(rtp, num_reels)\n",
    "        self.free_spins_trigger = free_spins_trigger\n",
    "        self.free_spins_remaining = 0\n",
    "\n",
    "    def spin(self):\n",
    "        if self.free_spins_remaining > 0:\n",
    "            self.free_spins_remaining -= 1\n",
    "            print(\"Free spin! Remaining:\", self.free_spins_remaining)\n",
    "        \n",
    "        result = super().spin()\n",
    "\n",
    "        if result == self.free_spins_trigger:\n",
    "            self.free_spins_remaining += 10\n",
    "            print(\"You won 10 free spins!\")\n",
    "\n",
    "        return result\n",
    "\n",
    "# Create a slot machine instance with free spins feature\n",
    "slot_machine_with_free_spins = SlotMachineWithFreeSpins()\n",
    "\n",
    "# Simulate a few spins\n",
    "free_spins_simulation_results = [slot_machine_with_free_spins.spin() for _ in range(15)]\n",
    "for spin_number, result in enumerate(free_spins_simulation_results, 1):\n",
    "    print(f\"Spin {spin_number}: {result}\")\n"
   ]
  },
  {
   "cell_type": "code",
   "execution_count": null,
   "id": "d641bded-6cee-41f4-9e2d-7e5bf888d039",
   "metadata": {},
   "outputs": [],
   "source": []
  }
 ],
 "metadata": {
  "kernelspec": {
   "display_name": "Python 3 (ipykernel)",
   "language": "python",
   "name": "python3"
  },
  "language_info": {
   "codemirror_mode": {
    "name": "ipython",
    "version": 3
   },
   "file_extension": ".py",
   "mimetype": "text/x-python",
   "name": "python",
   "nbconvert_exporter": "python",
   "pygments_lexer": "ipython3",
   "version": "3.11.5"
  }
 },
 "nbformat": 4,
 "nbformat_minor": 5
}
