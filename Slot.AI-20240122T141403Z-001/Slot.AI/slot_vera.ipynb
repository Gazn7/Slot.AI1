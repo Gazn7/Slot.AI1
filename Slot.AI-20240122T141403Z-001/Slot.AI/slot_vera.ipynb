{
 "cells": [
  {
   "cell_type": "markdown",
   "id": "267716a0-bf82-49d5-9691-9db2cd8e33fb",
   "metadata": {},
   "source": [
    "use thise rules for my slot:\n",
    "\n",
    "ENGINE RULES\t\t\n",
    "- All symbols pay left to right except scatter symbol which pay any\n",
    "- Coinciding wins on different payline are added\t\t\n",
    "- Highest win on each selected payline\n",
    "\n",
    "\n",
    "DEFINE:\n",
    "- symbols\n",
    "- payline"
   ]
  },
  {
   "cell_type": "markdown",
   "id": "2abe9b2e-e95c-42a6-944a-d8804e4e0920",
   "metadata": {},
   "source": [
    "# SLOT DEFINITION"
   ]
  },
  {
   "cell_type": "code",
   "execution_count": 30,
   "id": "a059adb1-3597-49da-b1ac-a5d18d1e6fe1",
   "metadata": {
    "tags": []
   },
   "outputs": [],
   "source": [
    "import random\n",
    "\n",
    "class SlotMachine:\n",
    "    def __init__(self, symbols, num_reels=5, num_positions=4, symbols_per_reel=51):\n",
    "        self.symbols = symbols  # The symbols available for the slot machine\n",
    "        self.num_reels = num_reels  # Number of reels\n",
    "        self.num_positions = num_positions  # Number of positions visible per reel\n",
    "        self.symbols_per_reel = symbols_per_reel  # Total number of symbols per reel\n",
    "        self.reels = self.generate_reels()\n",
    "        # simulating RTP\n",
    "        self.rtp = rtp\n",
    "        self.total_bet = 0 # Total amount of money wagered over time\n",
    "        self.total_payout = 0 # Total amount of money paid out (total_payout) as winnings\n",
    "\n",
    "    def generate_reels(self):\n",
    "        # Generate reels with 51 positions each, filled with a random assortment of the provided symbols\n",
    "        return [random.choices(self.symbols, k=self.symbols_per_reel) for _ in range(self.num_reels)]\n",
    "  \n",
    "    def spin(self, bet_amount):\n",
    "        # Record the bet amount\n",
    "        self.total_bet += bet_amount\n",
    "        # Spin each reel to get 4 random symbols from its set\n",
    "        return [random.sample(reel, self.num_positions) for reel in self.reels]\n",
    "   \n",
    "    def spin(self):\n",
    "        # Spin each reel to get 4 random symbols from its set\n",
    "        return [random.sample(reel, self.num_positions) for reel in self.reels]\n",
    "    \n",
    "    def calculate_payout(self, spin_result):\n",
    "        # A simple random payout logic based on the first symbol of the first reel\n",
    "        first_symbol = spin_result[0][0]\n",
    "        if first_symbol == \"W\":  # Let's assume \"W\" is a wild symbol with a higher payout\n",
    "            return random.randint(50, 100)  # Random payout between 50 and 100\n",
    "        else:\n",
    "            return random.randint(0, 10)  # Random payout between 0 and 10 for any other symbol\n"
   ]
  },
  {
   "cell_type": "markdown",
   "id": "d048cd61-26b0-48b4-a359-9a05d0f8e120",
   "metadata": {},
   "source": [
    " # Input"
   ]
  },
  {
   "cell_type": "code",
   "execution_count": 28,
   "id": "8379c5a0-92ab-4bd1-a36e-0ed43cf9b4a4",
   "metadata": {
    "tags": []
   },
   "outputs": [],
   "source": [
    "# The symbols available for the slot machine\n",
    "symbols = [\"W\", \"G1\", \"G2\", \"A3\", \"A2\", \"A1\", \"A\", \"K\", \"Q\", \"J\", \"T\", \"S\"]\n",
    "num_reels=5  # Number of reels\n",
    "num_positions=4  # Number of positions visible per reel\n",
    "symbols_per_reel=51  # Total number of symbols per reel\n",
    "rtp=95.4"
   ]
  },
  {
   "cell_type": "markdown",
   "id": "08a84e63-716f-4359-8215-e783cace62da",
   "metadata": {},
   "source": [
    "# simulatore"
   ]
  },
  {
   "cell_type": "code",
   "execution_count": 29,
   "id": "33215410-d7e3-4b9b-a223-f7bf4c2ee32f",
   "metadata": {
    "tags": []
   },
   "outputs": [
    {
     "ename": "TypeError",
     "evalue": "SlotMachine.__init__() takes from 2 to 5 positional arguments but 6 were given",
     "output_type": "error",
     "traceback": [
      "\u001b[1;31m---------------------------------------------------------------------------\u001b[0m",
      "\u001b[1;31mTypeError\u001b[0m                                 Traceback (most recent call last)",
      "Cell \u001b[1;32mIn[29], line 2\u001b[0m\n\u001b[0;32m      1\u001b[0m \u001b[38;5;66;03m# Create a slot machine instance with the user-defined symbols\u001b[39;00m\n\u001b[1;32m----> 2\u001b[0m slot_machine \u001b[38;5;241m=\u001b[39m SlotMachine(symbols,num_reels,num_positions,symbols_per_reel,rtp)\n\u001b[0;32m      4\u001b[0m \u001b[38;5;66;03m# Simulate a spin\u001b[39;00m\n\u001b[0;32m      5\u001b[0m spin_result \u001b[38;5;241m=\u001b[39m slot_machine\u001b[38;5;241m.\u001b[39mspin()\n",
      "\u001b[1;31mTypeError\u001b[0m: SlotMachine.__init__() takes from 2 to 5 positional arguments but 6 were given"
     ]
    }
   ],
   "source": [
    "# Create a slot machine instance with the user-defined symbols\n",
    "slot_machine = SlotMachine(symbols,num_reels,num_positions,symbols_per_reel,rtp)\n",
    "\n",
    "# Simulate a spin\n",
    "spin_result = slot_machine.spin()\n",
    "payout = slot_machine.calculate_payout(spin_result)\n",
    "print(\"Spin Result:\", [symbol for reel in spin_result for symbol in reel], \"Payout:\", payout)\n"
   ]
  },
  {
   "cell_type": "code",
   "execution_count": null,
   "id": "5620c5b0-36b2-4c27-bf00-1a6a824ef3c7",
   "metadata": {},
   "outputs": [],
   "source": []
  },
  {
   "cell_type": "code",
   "execution_count": null,
   "id": "200458ba-69f9-481a-af54-d1d0bd60e159",
   "metadata": {},
   "outputs": [],
   "source": []
  }
 ],
 "metadata": {
  "kernelspec": {
   "display_name": "Python 3 (ipykernel)",
   "language": "python",
   "name": "python3"
  },
  "language_info": {
   "codemirror_mode": {
    "name": "ipython",
    "version": 3
   },
   "file_extension": ".py",
   "mimetype": "text/x-python",
   "name": "python",
   "nbconvert_exporter": "python",
   "pygments_lexer": "ipython3",
   "version": "3.11.5"
  }
 },
 "nbformat": 4,
 "nbformat_minor": 5
}
