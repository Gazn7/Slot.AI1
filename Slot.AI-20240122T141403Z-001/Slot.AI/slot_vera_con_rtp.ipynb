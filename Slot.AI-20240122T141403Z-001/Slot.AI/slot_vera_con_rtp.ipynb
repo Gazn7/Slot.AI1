{
 "cells": [
  {
   "cell_type": "markdown",
   "id": "267716a0-bf82-49d5-9691-9db2cd8e33fb",
   "metadata": {},
   "source": [
    "use thise rules for my slot:\n",
    "\n",
    "ENGINE RULES\t\t\n",
    "- All symbols pay left to right except scatter symbol which pay any\n",
    "- Coinciding wins on different payline are added\t\t\n",
    "- Highest win on each selected payline\n",
    "\n",
    "\n",
    "DEFINE:\n",
    "- symbols\n",
    "- payline"
   ]
  },
  {
   "cell_type": "markdown",
   "id": "2abe9b2e-e95c-42a6-944a-d8804e4e0920",
   "metadata": {},
   "source": [
    "# SLOT DEFINITION"
   ]
  },
  {
   "cell_type": "code",
   "execution_count": 33,
   "id": "a059adb1-3597-49da-b1ac-a5d18d1e6fe1",
   "metadata": {
    "tags": []
   },
   "outputs": [],
   "source": [
    "import random\n",
    "\n",
    "class SlotMachine:\n",
    "    def __init__(self, symbols, num_reels=5, num_positions=4, symbols_per_reel=51, rtp=95.4):\n",
    "        self.symbols = symbols  # The symbols available for the slot machine\n",
    "        self.num_reels = num_reels  # Number of reels\n",
    "        self.num_positions = num_positions  # Number of positions visible per reel\n",
    "        self.symbols_per_reel = symbols_per_reel  # Total number of symbols per reel\n",
    "        self.reels = self.generate_reels()\n",
    "        # simulating RTP\n",
    "        self.rtp = rtp\n",
    "        self.total_bet = 0 # Total amount of money wagered over time\n",
    "        self.total_payout = 0 # Total amount of money paid out (total_payout) as winnings\n",
    "\n",
    "    def generate_reels(self):\n",
    "        # Generate reels with 51 positions each, filled with a random assortment of the provided symbols\n",
    "        return [random.choices(self.symbols, k=self.symbols_per_reel) for _ in range(self.num_reels)]\n",
    "  \n",
    "    def spin(self, bet_amount):\n",
    "        # Record the bet amount\n",
    "        self.total_bet += bet_amount\n",
    "        # Spin each reel to get 4 random symbols from its set\n",
    "        return [random.sample(reel, self.num_positions) for reel in self.reels]\n",
    "    \n",
    "    # asked chat to generate random payout calculatiom\n",
    "    def calculate_payout(self, spin_result, bet_amount):\n",
    "        # Simple payout calculation based on the first symbol of the first reel\n",
    "        first_symbol = spin_result[0][0]\n",
    "        payout = 0\n",
    "        if first_symbol == \"W\":  # Assuming \"W\" is a wild symbol with a higher payout\n",
    "            payout = bet_amount * 2  # Example payout\n",
    "        else:\n",
    "            # Other symbols have lower payout\n",
    "            payout = bet_amount * 0.5  # Example payout\n",
    "        \n",
    "        # Update the total payout\n",
    "        self.total_payout += payout\n",
    "\n",
    "        # Adjust the payout to simulate the RTP\n",
    "        # This is a very naive approach and doesn't accurately represent how RTP is implemented in real slots\n",
    "        if self.total_bet > 0:\n",
    "            current_rtp = (self.total_payout / self.total_bet) * 100\n",
    "            if current_rtp > self.rtp:\n",
    "                payout -= bet_amount * 0.1  # Decrease the payout slightly\n",
    "                self.total_payout -= bet_amount * 0.1  # Adjust the total payout\n",
    "        \n",
    "        return payout"
   ]
  },
  {
   "cell_type": "markdown",
   "id": "d048cd61-26b0-48b4-a359-9a05d0f8e120",
   "metadata": {},
   "source": [
    " # Input"
   ]
  },
  {
   "cell_type": "code",
   "execution_count": 34,
   "id": "8379c5a0-92ab-4bd1-a36e-0ed43cf9b4a4",
   "metadata": {
    "tags": []
   },
   "outputs": [],
   "source": [
    "# The symbols available for the slot machine\n",
    "symbols = [\"W\", \"G1\", \"G2\", \"A3\", \"A2\", \"A1\", \"A\", \"K\", \"Q\", \"J\", \"T\", \"S\"]\n",
    "num_reels=5  # Number of reels\n",
    "num_positions=4  # Number of positions visible per reel\n",
    "symbols_per_reel=51  # Total number of symbols per reel\n",
    "rtp=95.4"
   ]
  },
  {
   "cell_type": "markdown",
   "id": "08a84e63-716f-4359-8215-e783cace62da",
   "metadata": {},
   "source": [
    "# simulatore"
   ]
  },
  {
   "cell_type": "code",
   "execution_count": 40,
   "id": "33215410-d7e3-4b9b-a223-f7bf4c2ee32f",
   "metadata": {
    "tags": []
   },
   "outputs": [
    {
     "name": "stdout",
     "output_type": "stream",
     "text": [
      "Spin Result: ['A2', 'A3', 'A2', 'G2', 'A', 'A1', 'W', 'Q', 'G2', 'T', 'G2', 'A3', 'W', 'A3', 'T', 'W', 'T', 'A3', 'K', 'G1'] Payout: 0.5\n",
      "Final RTP after 1000000 spins: 50.0%\n"
     ]
    }
   ],
   "source": [
    "# Create a slot machine instance with the user-defined symbols and target RTP\n",
    "slot_machine = SlotMachine(symbols, rtp=95.4)\n",
    "\n",
    "# Simulate a series of spins\n",
    "bet_amount = 1  # The amount wagered per spin\n",
    "for _ in range(1):  # Simulate 1000 spins\n",
    "    spin_result = slot_machine.spin(bet_amount)\n",
    "    payout = slot_machine.calculate_payout(spin_result, bet_amount)   \n",
    "    print(\"Spin Result:\", [symbol for reel in spin_result for symbol in reel], \"Payout:\", payout)\n",
    "\n",
    "# Print the final RTP after the simulation\n",
    "final_rtp = (slot_machine.total_payout / slot_machine.total_bet) * 100\n",
    "print(f\"Final RTP after 1000000 spins: {final_rtp}%\")\n",
    "\n",
    "\n"
   ]
  },
  {
   "cell_type": "code",
   "execution_count": null,
   "id": "5620c5b0-36b2-4c27-bf00-1a6a824ef3c7",
   "metadata": {},
   "outputs": [],
   "source": []
  },
  {
   "cell_type": "code",
   "execution_count": 43,
   "id": "200458ba-69f9-481a-af54-d1d0bd60e159",
   "metadata": {},
   "outputs": [
    {
     "name": "stdout",
     "output_type": "stream",
     "text": [
      "Final RTP after 100000 spins: 0.00%\n"
     ]
    }
   ],
   "source": [
    "import random\n",
    "\n",
    "class SlotMachine:\n",
    "    def __init__(self, symbols, target_rtp=95.5):\n",
    "        self.symbols = symbols\n",
    "        self.target_rtp = target_rtp\n",
    "        self.total_bet = 0\n",
    "        self.total_payout = 0\n",
    "\n",
    "    def spin_reel(self):\n",
    "        return random.choice(self.symbols)\n",
    "\n",
    "    def spin(self, bet_amount):\n",
    "        self.total_bet += bet_amount\n",
    "        spin_result = [self.spin_reel() for _ in range(5)]  # Simulating a 5-reel spin\n",
    "        return spin_result\n",
    "    \n",
    "    def calculate_payout(self, spin_result, bet_amount):\n",
    "        # Define the base payout ratios and winning probabilities\n",
    "        symbol_payouts = {\n",
    "            \"W\": (100, 0.01), \"G1\": (50, 0.02), \"G2\": (25, 0.03), \"A3\": (12, 0.04), \n",
    "            \"A2\": (6, 0.05), \"A1\": (3, 0.06), \"A\": (2, 0.07), \"K\": (1.5, 0.08),\n",
    "            \"Q\": (1.2, 0.09), \"J\": (1, 0.1), \"T\": (0.5, 0.15), \"S\": (0.2, 0.3)\n",
    "        }\n",
    "\n",
    "        payout = 0\n",
    "        if spin_result.count(spin_result[0]) == 5:  \n",
    "            payout_ratio, winning_probability = symbol_payouts.get(spin_result[0], (0, 0))\n",
    "            if random.random() <= winning_probability:\n",
    "                payout = bet_amount * payout_ratio\n",
    "\n",
    "        self.total_payout += payout\n",
    "        return payout\n",
    "\n",
    "# User-defined symbols\n",
    "symbols = [\"W\", \"G1\", \"G2\", \"A3\", \"A2\", \"A1\", \"A\", \"K\", \"Q\", \"J\", \"T\", \"S\"]\n",
    "\n",
    "# Create a slot machine instance with the user-defined symbols and target RTP\n",
    "slot_machine = SlotMachine(symbols, target_rtp=95.5)\n",
    "\n",
    "# Simulate a series of spins\n",
    "bet_amount = 1\n",
    "num_spins = 100000\n",
    "for _ in range(num_spins):\n",
    "    spin_result = slot_machine.spin(bet_amount)\n",
    "    payout = slot_machine.calculate_payout(spin_result, bet_amount)\n",
    "\n",
    "# Calculate the final RTP\n",
    "final_rtp = (slot_machine.total_payout / slot_machine.total_bet) * 100 if slot_machine.total_bet > 0 else 0\n",
    "print(f\"Final RTP after {num_spins} spins: {final_rtp:.2f}%\")\n",
    "\n"
   ]
  }
 ],
 "metadata": {
  "kernelspec": {
   "display_name": "Python 3 (ipykernel)",
   "language": "python",
   "name": "python3"
  },
  "language_info": {
   "codemirror_mode": {
    "name": "ipython",
    "version": 3
   },
   "file_extension": ".py",
   "mimetype": "text/x-python",
   "name": "python",
   "nbconvert_exporter": "python",
   "pygments_lexer": "ipython3",
   "version": "3.11.5"
  }
 },
 "nbformat": 4,
 "nbformat_minor": 5
}
