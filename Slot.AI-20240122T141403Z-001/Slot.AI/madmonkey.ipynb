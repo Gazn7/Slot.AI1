{
 "cells": [
  {
   "cell_type": "markdown",
   "id": "d3b63d47-2d30-4e2e-934e-ed1f87d9d5c8",
   "metadata": {},
   "source": [
    "# MAD MAD MONKEY rifatta"
   ]
  },
  {
   "cell_type": "code",
   "execution_count": 8,
   "id": "36c7aeee-aacb-48eb-8ea4-37d4b014cefe",
   "metadata": {
    "tags": []
   },
   "outputs": [],
   "source": [
    "import random\n",
    "\n",
    "class SlotMachine:\n",
    "    def __init__(self, symbols, paytable, num_reels, positions):\n",
    "        self.symbols = symbols\n",
    "        self.paytable = paytable\n",
    "        self.num_reels = num_reels\n",
    "        self.positions = positions\n",
    "        self.reels = self.generate_reels()\n",
    "\n",
    "    def generate_reels(self):\n",
    "        # Generate reels with 51 positions each, filled with a random assortment of the provided symbols\n",
    "        return [[random.choice(self.symbols) for _ in range(51)] for _ in range(self.num_reels)]\n",
    "\n",
    "    def spin(self):\n",
    "        # Spin each reel to get a random symbol from the 51 positions\n",
    "        return [random.choice(reel) for reel in self.reels]\n",
    "\n",
    "    def calculate_payout(self, spin_result):\n",
    "        payout = 0\n",
    "        # Count occurrences of each symbol\n",
    "        symbol_counts = {symbol: spin_result.count(symbol) for symbol in set(spin_result)}\n",
    "\n",
    "        # Calculate payout for each symbol\n",
    "        for symbol, count in symbol_counts.items():\n",
    "            if count >= 2:\n",
    "                payout += self.paytable.get(symbol, {}).get(count, 0)\n",
    "\n",
    "        return payout\n",
    "\n"
   ]
  },
  {
   "cell_type": "code",
   "execution_count": null,
   "id": "005df0e0-3c5d-4a1d-9798-e7b5221d9b59",
   "metadata": {},
   "outputs": [],
   "source": []
  },
  {
   "cell_type": "code",
   "execution_count": 12,
   "id": "f4fa9abd-b0d3-4769-924d-dad2dcd74ef6",
   "metadata": {
    "tags": []
   },
   "outputs": [
    {
     "name": "stdout",
     "output_type": "stream",
     "text": [
      "Spin Result: ['G2', 'Q', 'W', 'J', 'A3'], Payout: 0\n"
     ]
    }
   ],
   "source": [
    "# Define the symbols and paytable from the image provided\n",
    "symbols = [\"A3\", \"A2\", \"A1\", \"A\", \"K\", \"Q\", \"J\", \"T\", \"W\", \"S\", \"G1\", \"G2\"]\n",
    "paytable = {\n",
    "    \"A3\": {5: 400, 4: 40, 3: 20, 2: 0},\n",
    "    \"A2\": {5: 400, 4: 40, 3: 20, 2: 0},\n",
    "    \"A1\": {5: 300, 4: 30, 3: 10, 2: 0},\n",
    "    \"A\":  {5: 300, 4: 30, 3: 10, 2: 0},\n",
    "    \"K\":  {5: 250, 4: 24, 3: 8,  2: 0},\n",
    "    \"Q\":  {5: 250, 4: 24, 3: 8,  2: 0},\n",
    "    \"J\":  {5: 200, 4: 20, 3: 6,  2: 0},\n",
    "    \"T\":  {5: 200, 4: 20, 3: 6,  2: 0},\n",
    "    \"G1\": {5: 1000, 4: 50, 3: 24, 2: 4},\n",
    "    \"G2\": {5: 1000, 4: 50, 3: 24, 2: 0},\n",
    "    \"S\":  {5: 400, 4: 30, 3: 4,  2: 2},  # Assuming 'S' is the scatter symbol\n",
    "    \"W\":  {5: 0,   4: 0,  3: 0,  2: 0}   # Assuming 'W' is the wild symbol\n",
    "}\n",
    "\n",
    "# Number of reels and positions\n",
    "num_reels = 5\n",
    "positions = 4  # This value is not used in this simplified version\n",
    "\n",
    "# Create a slot machine instance\n",
    "slot_machine = SlotMachine(symbols, paytable, num_reels, positions)\n",
    "\n",
    "# Simulate a spin and calculate payout\n",
    "spin_result = slot_machine.spin()\n",
    "payout = slot_machine.calculate_payout(spin_result)\n",
    "\n",
    "print(f\"Spin Result: {spin_result}, Payout: {payout}\")"
   ]
  },
  {
   "cell_type": "code",
   "execution_count": null,
   "id": "78e4bd54-3661-4201-9af6-0a98fd4b80a2",
   "metadata": {},
   "outputs": [],
   "source": [
    "\n"
   ]
  }
 ],
 "metadata": {
  "kernelspec": {
   "display_name": "Python 3 (ipykernel)",
   "language": "python",
   "name": "python3"
  },
  "language_info": {
   "codemirror_mode": {
    "name": "ipython",
    "version": 3
   },
   "file_extension": ".py",
   "mimetype": "text/x-python",
   "name": "python",
   "nbconvert_exporter": "python",
   "pygments_lexer": "ipython3",
   "version": "3.11.5"
  }
 },
 "nbformat": 4,
 "nbformat_minor": 5
}
