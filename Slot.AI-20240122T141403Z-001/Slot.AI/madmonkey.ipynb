{
 "cells": [
  {
   "cell_type": "markdown",
   "id": "d3b63d47-2d30-4e2e-934e-ed1f87d9d5c8",
   "metadata": {},
   "source": [
    "# MAD MAD MONKEY rifatta"
   ]
  },
  {
   "cell_type": "markdown",
   "id": "97c681d9-7aa4-4c48-bf7b-bfda64c896d6",
   "metadata": {},
   "source": [
    "## 1. Definizione della Slot"
   ]
  },
  {
   "cell_type": "code",
   "execution_count": 54,
   "id": "36c7aeee-aacb-48eb-8ea4-37d4b014cefe",
   "metadata": {
    "tags": []
   },
   "outputs": [],
   "source": [
    "## Slot senza RTP\n",
    "import random\n",
    "\n",
    "class SlotMachine:\n",
    "    def __init__(self, symbols, paytable, num_reels, positions):\n",
    "        self.symbols = symbols\n",
    "        self.paytable = paytable\n",
    "        self.num_reels = num_reels\n",
    "        self.positions = positions\n",
    "        self.reels = self.generate_reels()\n",
    "\n",
    "    def generate_reels(self):\n",
    "        # Generate reels with 51 positions each, filled with a random assortment of the provided symbols\n",
    "        return [[random.choice(self.symbols) for _ in range(51)] for _ in range(self.num_reels)]\n",
    "\n",
    "    def spin(self):\n",
    "        # Spin each reel to get a random symbol from the 51 positions\n",
    "        return [random.choice(reel) for reel in self.reels]\n",
    "\n",
    "    def calculate_payout(self, spin_result):\n",
    "        payout = 0\n",
    "        # Count occurrences of each symbol\n",
    "        symbol_counts = {symbol: spin_result.count(symbol) for symbol in set(spin_result)}\n",
    "\n",
    "        # Calculate payout for each symbol\n",
    "        for symbol, count in symbol_counts.items():\n",
    "            if count >= 2:\n",
    "                payout += self.paytable.get(symbol, {}).get(count, 0)\n",
    "\n",
    "        return payout\n"
   ]
  },
  {
   "cell_type": "markdown",
   "id": "4fa2dd0e-88ef-4714-b2de-4bf8cb3467b8",
   "metadata": {},
   "source": [
    "## 2. Definizione dei simobli, rtp, paytable"
   ]
  },
  {
   "cell_type": "code",
   "execution_count": 55,
   "id": "f4fa9abd-b0d3-4769-924d-dad2dcd74ef6",
   "metadata": {
    "tags": []
   },
   "outputs": [],
   "source": [
    "# Define the symbols and paytable from the image provided\n",
    "symbols = [\"A3\", \"A2\", \"A1\", \"A\", \"K\", \"Q\", \"J\", \"T\", \"W\", \"S\", \"G1\", \"G2\"]\n",
    "paytable = {\n",
    "    \"A3\": {5: 400, 4: 40, 3: 20, 2: 0},\n",
    "    \"A2\": {5: 400, 4: 40, 3: 20, 2: 0},\n",
    "    \"A1\": {5: 300, 4: 30, 3: 10, 2: 0},\n",
    "    \"A\":  {5: 300, 4: 30, 3: 10, 2: 0},\n",
    "    \"K\":  {5: 250, 4: 24, 3: 8,  2: 0},\n",
    "    \"Q\":  {5: 250, 4: 24, 3: 8,  2: 0},\n",
    "    \"J\":  {5: 200, 4: 20, 3: 6,  2: 0},\n",
    "    \"T\":  {5: 200, 4: 20, 3: 6,  2: 0},\n",
    "    \"G1\": {5: 1000, 4: 50, 3: 24, 2: 4},\n",
    "    \"G2\": {5: 1000, 4: 50, 3: 24, 2: 0},\n",
    "    \"S\":  {5: 400, 4: 30, 3: 4,  2: 2},  # Assuming 'S' is the scatter symbol\n",
    "    \"W\":  {5: 0,   4: 0,  3: 0,  2: 0}   # Assuming 'W' is the wild symbol\n",
    "}\n",
    "# Number of reels and positions\n",
    "num_reels = 5\n",
    "positions = 4  # This value is not used in this simplified version\n",
    "\n",
    "\n"
   ]
  },
  {
   "cell_type": "markdown",
   "id": "23f2ba7e-f321-49b9-9b7c-6709f311786f",
   "metadata": {},
   "source": [
    "## 3. Eseguibile"
   ]
  },
  {
   "cell_type": "code",
   "execution_count": 56,
   "id": "c5f7c095-c3ea-4f78-85e6-3af6326702b2",
   "metadata": {
    "tags": []
   },
   "outputs": [
    {
     "name": "stdout",
     "output_type": "stream",
     "text": [
      "Spin Result: ['S', 'A2', 'K', 'G2', 'A2'], Payout: 0\n"
     ]
    }
   ],
   "source": [
    "# Create a slot machine instance\n",
    "slot_machine = SlotMachine(symbols, paytable, num_reels, positions)\n",
    "\n",
    "# Simulate a spin and calculate payout\n",
    "spin_result = slot_machine.spin()\n",
    "payout = slot_machine.calculate_payout(spin_result)\n",
    "\n",
    "print(f\"Spin Result: {spin_result}, Payout: {payout}\")"
   ]
  },
  {
   "cell_type": "markdown",
   "id": "87f5429f-7cb8-4ebe-b9d5-2a8893d135a4",
   "metadata": {},
   "source": [
    "# SLOT CON RTP"
   ]
  },
  {
   "cell_type": "code",
   "execution_count": 57,
   "id": "7c7b7219-5450-4761-b66f-3ff9003dc2f2",
   "metadata": {
    "tags": []
   },
   "outputs": [
    {
     "name": "stdout",
     "output_type": "stream",
     "text": [
      "Estimated RTP: 2.17%\n"
     ]
    }
   ],
   "source": [
    "import random\n",
    "\n",
    "class SlotMachine:\n",
    "    def __init__(self, reel_strips, paytable, feature_paytable, base_rtp, feature_rtp):\n",
    "        self.reel_strips = reel_strips\n",
    "        self.paytable = paytable\n",
    "        self.feature_paytable = feature_paytable\n",
    "        self.base_rtp = base_rtp\n",
    "        self.feature_rtp = feature_rtp\n",
    "        self.total_bet = 0\n",
    "        self.total_payout = 0\n",
    "\n",
    "    def spin_reel(self, reel):\n",
    "        return random.choice(reel)\n",
    "\n",
    "    def spin(self):\n",
    "        # Simulate a reel spin for each of the 5 reels\n",
    "        return [self.spin_reel(reel) for reel in self.reel_strips]\n",
    "\n",
    "    def calculate_payout(self, spin_result, paytable):\n",
    "        # Calculate the payout based on the spin result and the given paytable\n",
    "        # For simplicity, we assume each symbol has the same payout for 5 in a row\n",
    "        payout = 0\n",
    "        for symbol in spin_result:\n",
    "            if spin_result.count(symbol) == 5:\n",
    "                payout += paytable.get(symbol, 0)\n",
    "        return payout\n",
    "\n",
    "    def simulate_rtp(self, spins=1000000):\n",
    "        total_base_payout = 0\n",
    "        for _ in range(spins):\n",
    "            bet_amount = 1\n",
    "            self.total_bet += bet_amount\n",
    "            spin_result = self.spin()\n",
    "            total_base_payout += self.calculate_payout(spin_result, self.paytable)\n",
    "        # Calculate the total RTP from base and feature payouts\n",
    "        # We assume here that features are part of the spins already played\n",
    "        total_rtp = (total_base_payout / self.total_bet) * 100\n",
    "        return total_rtp\n",
    "\n",
    "# Define the symbols distribution on the reels (reel strips) for base game\n",
    "# This is a hypothetical distribution and will not accurately achieve the target RTP without testing and adjustment\n",
    "reel_strips = [\n",
    "    [\"A1\", \"K\", \"Q\", \"J\", \"T\", \"A2\", \"A3\", \"G1\", \"A1\", \"K\"] * 5 + [\"Q\", \"J\"] * 1,  # Reel 1\n",
    "    [\"A1\", \"K\", \"Q\", \"J\", \"T\", \"A2\", \"W\", \"G1\", \"A1\", \"K\"] * 5 + [\"Q\", \"J\"] * 1,  # Reel 2\n",
    "    [\"A1\", \"K\", \"Q\", \"J\", \"T\", \"A2\", \"W\", \"G2\", \"A1\", \"K\"] * 5 + [\"Q\", \"J\"] * 1,  # Reel 3\n",
    "    [\"A1\", \"K\", \"Q\", \"J\", \"T\", \"A2\", \"W\", \"G1\", \"A1\", \"K\"] * 5 + [\"Q\", \"J\"] * 1,  # Reel 4\n",
    "    [\"A1\", \"K\", \"Q\", \"J\", \"T\", \"A2\", \"A3\", \"G2\", \"A1\", \"K\"] * 5 + [\"Q\", \"J\"] * 1,  # Reel 5\n",
    "]\n",
    "\n",
    "# Define the base game and feature paytables\n",
    "# The following paytable values are placeholders and would need to be adjusted to achieve the desired RTP\n",
    "paytable = {\n",
    "    \"A1\": 10, \"A2\": 20, \"A3\": 30, \"K\": 5, \"Q\": 5, \"J\": 5, \"T\": 5,\n",
    "    \"G1\": 100, \"G2\": 100, \"W\": 0,  # Wilds typically don't have a payout by themselves\n",
    "    \"S\": 50,  # Scatter\n",
    "}\n",
    "\n",
    "# For simplicity, we'll assume the feature paytable is the same as the base paytable\n",
    "feature_paytable = paytable.copy()\n",
    "\n",
    "# RTP values - The given values are placeholders for illustration\n",
    "base_rtp = 76.701\n",
    "feature_rtp = 18.698\n",
    "\n",
    "# Create a slot machine instance\n",
    "slot_machine = SlotMachine(reel_strips, paytable, feature_paytable, base_rtp, feature_rtp)\n",
    "\n",
    "# Simulate spins to estimate RTP\n",
    "estimated_rtp = slot_machine.simulate_rtp(spins=100000)\n",
    "print(f\"Estimated RTP: {estimated_rtp:.2f}%\")\n"
   ]
  },
  {
   "cell_type": "code",
   "execution_count": null,
   "id": "32921af1-3349-45b9-a7dc-0d3d555095a0",
   "metadata": {},
   "outputs": [],
   "source": []
  }
 ],
 "metadata": {
  "kernelspec": {
   "display_name": "Python 3 (ipykernel)",
   "language": "python",
   "name": "python3"
  },
  "language_info": {
   "codemirror_mode": {
    "name": "ipython",
    "version": 3
   },
   "file_extension": ".py",
   "mimetype": "text/x-python",
   "name": "python",
   "nbconvert_exporter": "python",
   "pygments_lexer": "ipython3",
   "version": "3.11.5"
  }
 },
 "nbformat": 4,
 "nbformat_minor": 5
}
